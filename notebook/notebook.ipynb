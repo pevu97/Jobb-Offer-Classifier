{
  "nbformat": 4,
  "nbformat_minor": 0,
  "metadata": {
    "colab": {
      "provenance": [],
      "authorship_tag": "ABX9TyNzX11nYwTBGut3Bj7AQA1C",
      "include_colab_link": true
    },
    "kernelspec": {
      "name": "python3",
      "display_name": "Python 3"
    },
    "language_info": {
      "name": "python"
    }
  },
  "cells": [
    {
      "cell_type": "markdown",
      "metadata": {
        "id": "view-in-github",
        "colab_type": "text"
      },
      "source": [
        "<a href=\"https://colab.research.google.com/github/pevu97/Jobb-Offer-Classifier/blob/main/notebook/notebook.ipynb\" target=\"_parent\"><img src=\"https://colab.research.google.com/assets/colab-badge.svg\" alt=\"Open In Colab\"/></a>"
      ]
    },
    {
      "cell_type": "code",
      "execution_count": 6,
      "metadata": {
        "id": "FWBAccqmk8tV"
      },
      "outputs": [],
      "source": [
        "import requests\n",
        "\n",
        "def get_job_details(job_id):\n",
        "  job_id = job_id\n",
        "  url = f\"https://nofluffjobs.com/api/posting/{job_id}\"\n",
        "\n",
        "  headers = {\n",
        "      \"User-Agent\": \"Mozilla/5.0\",\n",
        "      \"Accept\": \"application/json\"\n",
        "  }\n",
        "\n",
        "  response = requests.get(url, headers=headers)\n",
        "\n",
        "  return response.json()\n",
        "\n",
        "\n",
        "def get_job_list(sentence):\n",
        "  url = \"https://nofluffjobs.com/api/search/posting\"\n",
        "  params = {\n",
        "      \"pageFrom\": 1,\n",
        "      \"pageTo\": 1,\n",
        "      \"pageSize\": 20,\n",
        "      \"salaryCurrency\": \"PLN\",\n",
        "      \"salaryPeriod\": \"month\",\n",
        "      \"region\": \"pl\",\n",
        "      \"language\": \"pl-PL\",\n",
        "      \"withSalaryMatch\": \"true\"\n",
        "  }\n",
        "\n",
        "  headers = {\n",
        "      \"Content-Type\": \"application/infiniteSearch+json\",\n",
        "      \"User-Agent\": \"Mozilla/5.0\"\n",
        "  }\n",
        "\n",
        "  payload = {\n",
        "      \"rawSearch\": f\"requirement={sentence}\"\n",
        "  }\n",
        "\n",
        "  response = requests.post(url, headers=headers, params=params, json=payload)\n",
        "\n",
        "  return response.json()\n"
      ]
    },
    {
      "cell_type": "code",
      "source": [
        "offer_list = get_job_list(\"python\")\n",
        "type(offer_list)"
      ],
      "metadata": {
        "colab": {
          "base_uri": "https://localhost:8080/"
        },
        "id": "P203PpAhpo2M",
        "outputId": "78f7a37d-4288-43fc-bd2d-5e97a6239db1"
      },
      "execution_count": 7,
      "outputs": [
        {
          "output_type": "execute_result",
          "data": {
            "text/plain": [
              "dict"
            ]
          },
          "metadata": {},
          "execution_count": 7
        }
      ]
    },
    {
      "cell_type": "code",
      "source": [
        "offer_list['postings'][215]['id']"
      ],
      "metadata": {
        "id": "dd9_KCa3qXLU",
        "outputId": "2c5e2be4-4485-4a17-9658-9ad897feb912",
        "colab": {
          "base_uri": "https://localhost:8080/",
          "height": 35
        }
      },
      "execution_count": 32,
      "outputs": [
        {
          "output_type": "execute_result",
          "data": {
            "text/plain": [
              "'senior-fullstack-developer-python-javascript-order-group-west-pomeranian'"
            ],
            "application/vnd.google.colaboratory.intrinsic+json": {
              "type": "string"
            }
          },
          "metadata": {},
          "execution_count": 32
        }
      ]
    },
    {
      "cell_type": "code",
      "source": [
        "jobs_titles = []\n",
        "for offer in offer_list['postings']:\n",
        "  jobs_titles.append(offer['id'])"
      ],
      "metadata": {
        "id": "DIPmJbi1GuuM"
      },
      "execution_count": 16,
      "outputs": []
    },
    {
      "cell_type": "code",
      "source": [
        "job_details = get_job_details(jobs_titles[0])"
      ],
      "metadata": {
        "id": "5P0xo43gJCMU"
      },
      "execution_count": 19,
      "outputs": []
    },
    {
      "cell_type": "code",
      "source": [
        "keywords = [\n",
        "    \"python\", \"java\", \"javascript\", \"react\", \"django\", \"sql\", \"node\", \"devops\", \"qa\",\n",
        "    \"junior\", \"mid\", \"entry\", \"trainee\", \"intern\"\n",
        "]\n",
        "\n",
        "\n",
        "title_list = []\n",
        "for key in keywords:\n",
        "  offer_list = get_job_list(key)['postings']\n",
        "  for offer in offer_list:\n",
        "    title_list.append(offer['id'])\n",
        "len(title_list)"
      ],
      "metadata": {
        "id": "jZYQg4w0Jmlm",
        "outputId": "43317031-3d62-4f1f-cdb5-0a615125d9c6",
        "colab": {
          "base_uri": "https://localhost:8080/"
        }
      },
      "execution_count": 48,
      "outputs": [
        {
          "output_type": "execute_result",
          "data": {
            "text/plain": [
              "1929"
            ]
          },
          "metadata": {},
          "execution_count": 48
        }
      ]
    },
    {
      "cell_type": "code",
      "source": [
        "title_list[1]"
      ],
      "metadata": {
        "id": "o2Vh-j08Sw9H",
        "outputId": "056a96e0-cc48-4902-d47e-bbb349561fbb",
        "colab": {
          "base_uri": "https://localhost:8080/",
          "height": 35
        }
      },
      "execution_count": 49,
      "outputs": [
        {
          "output_type": "execute_result",
          "data": {
            "text/plain": [
              "'senior-python-full-stack-developer-link-group-lower-silesian'"
            ],
            "application/vnd.google.colaboratory.intrinsic+json": {
              "type": "string"
            }
          },
          "metadata": {},
          "execution_count": 49
        }
      ]
    },
    {
      "cell_type": "code",
      "source": [
        "job_details = []\n",
        "\n",
        "for title in title_list:\n",
        "  job_details.append(get_job_details(title))\n"
      ],
      "metadata": {
        "id": "nUHC0SKyUteH"
      },
      "execution_count": 50,
      "outputs": []
    },
    {
      "cell_type": "code",
      "source": [
        "len(job_details)"
      ],
      "metadata": {
        "id": "ISrU0-11VYVE",
        "outputId": "9e9e2434-c0bf-4c7a-e8e1-3717ca682fd2",
        "colab": {
          "base_uri": "https://localhost:8080/"
        }
      },
      "execution_count": 46,
      "outputs": [
        {
          "output_type": "execute_result",
          "data": {
            "text/plain": [
              "1974"
            ]
          },
          "metadata": {},
          "execution_count": 46
        }
      ]
    },
    {
      "cell_type": "code",
      "source": [
        "from collections import Counter\n",
        "\n",
        "labels = [offer['basics']['seniority'][0].lower() for offer in job_details if offer.get('basics', {}).get('seniority')]\n",
        "print(Counter(labels))"
      ],
      "metadata": {
        "id": "gtPKK2wGXCJf",
        "outputId": "1301cfab-bba2-4ca1-9fc6-9530671e852c",
        "colab": {
          "base_uri": "https://localhost:8080/"
        }
      },
      "execution_count": 51,
      "outputs": [
        {
          "output_type": "stream",
          "name": "stdout",
          "text": [
            "Counter({'senior': 917, 'mid': 636, 'junior': 178, 'trainee': 144, 'expert': 54})\n"
          ]
        }
      ]
    },
    {
      "cell_type": "code",
      "source": [
        "jobs = {'senior':[], 'mid':[], 'junior':[]}"
      ],
      "metadata": {
        "id": "jo5Wm58uX8t8"
      },
      "execution_count": 68,
      "outputs": []
    },
    {
      "cell_type": "code",
      "source": [
        "for offer in job_details:\n",
        "  if offer.get('basics', {}).get('seniority'):\n",
        "    if 'senior' in offer['basics']['seniority'][0].lower():\n",
        "      jobs['senior'].append(offer)\n",
        "    if 'mid' in offer['basics']['seniority'][0].lower():\n",
        "      jobs['mid'].append(offer)\n",
        "    if 'junior' in offer['basics']['seniority'][0].lower():\n",
        "      jobs['junior'].append(offer)\n",
        "    if 'trainee' in offer['basics']['seniority'][0].lower():\n",
        "      jobs['junior'].append(offer)\n",
        "    if 'expert' in offer['basics']['seniority'][0].lower():\n",
        "      jobs['senior'].append(offer)"
      ],
      "metadata": {
        "id": "TJgvq2wqbYeK"
      },
      "execution_count": 69,
      "outputs": []
    },
    {
      "cell_type": "code",
      "source": [
        "len(jobs['senior'])"
      ],
      "metadata": {
        "id": "l1-TYimCb3sw",
        "outputId": "58245bc5-8fbf-43c5-fd0b-0dc29d742c16",
        "colab": {
          "base_uri": "https://localhost:8080/"
        }
      },
      "execution_count": 71,
      "outputs": [
        {
          "output_type": "execute_result",
          "data": {
            "text/plain": [
              "971"
            ]
          },
          "metadata": {},
          "execution_count": 71
        }
      ]
    },
    {
      "cell_type": "code",
      "source": [],
      "metadata": {
        "id": "NwcFHmpGcXnP"
      },
      "execution_count": null,
      "outputs": []
    }
  ]
}