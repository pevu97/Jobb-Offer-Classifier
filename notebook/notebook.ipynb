{
  "nbformat": 4,
  "nbformat_minor": 0,
  "metadata": {
    "colab": {
      "provenance": [],
      "authorship_tag": "ABX9TyMvuvGScL1ikmBbtCX+iaGk",
      "include_colab_link": true
    },
    "kernelspec": {
      "name": "python3",
      "display_name": "Python 3"
    },
    "language_info": {
      "name": "python"
    }
  },
  "cells": [
    {
      "cell_type": "markdown",
      "metadata": {
        "id": "view-in-github",
        "colab_type": "text"
      },
      "source": [
        "<a href=\"https://colab.research.google.com/github/pevu97/Jobb-Offer-Classifier/blob/main/notebook/notebook.ipynb\" target=\"_parent\"><img src=\"https://colab.research.google.com/assets/colab-badge.svg\" alt=\"Open In Colab\"/></a>"
      ]
    },
    {
      "cell_type": "code",
      "execution_count": 1,
      "metadata": {
        "colab": {
          "base_uri": "https://localhost:8080/"
        },
        "id": "FWBAccqmk8tV",
        "outputId": "ae02983a-58f2-47bc-d208-ffbcc6f048dd"
      },
      "outputs": [
        {
          "output_type": "stream",
          "name": "stdout",
          "text": [
            "Requirement already satisfied: beautifulsoup4 in /usr/local/lib/python3.11/dist-packages (4.13.4)\n",
            "Requirement already satisfied: soupsieve>1.2 in /usr/local/lib/python3.11/dist-packages (from beautifulsoup4) (2.7)\n",
            "Requirement already satisfied: typing-extensions>=4.0.0 in /usr/local/lib/python3.11/dist-packages (from beautifulsoup4) (4.14.1)\n"
          ]
        }
      ],
      "source": [
        "import requests\n",
        "!pip install beautifulsoup4\n",
        "\n",
        "def get_job_details(job_id):\n",
        "  job_id = job_id\n",
        "  url = f\"https://nofluffjobs.com/api/posting/{job_id}\"\n",
        "\n",
        "  headers = {\n",
        "      \"User-Agent\": \"Mozilla/5.0\",\n",
        "      \"Accept\": \"application/json\"\n",
        "  }\n",
        "\n",
        "  response = requests.get(url, headers=headers)\n",
        "\n",
        "  return response.json()\n",
        "\n",
        "\n",
        "def get_job_list(sentence):\n",
        "  url = \"https://nofluffjobs.com/api/search/posting\"\n",
        "  params = {\n",
        "      \"pageFrom\": 1,\n",
        "      \"pageTo\": 1,\n",
        "      \"pageSize\": 20,\n",
        "      \"salaryCurrency\": \"PLN\",\n",
        "      \"salaryPeriod\": \"month\",\n",
        "      \"region\": \"pl\",\n",
        "      \"language\": \"pl-PL\",\n",
        "      \"withSalaryMatch\": \"true\"\n",
        "  }\n",
        "\n",
        "  headers = {\n",
        "      \"Content-Type\": \"application/infiniteSearch+json\",\n",
        "      \"User-Agent\": \"Mozilla/5.0\"\n",
        "  }\n",
        "\n",
        "  payload = {\n",
        "      \"rawSearch\": f\"requirement={sentence}\"\n",
        "  }\n",
        "\n",
        "  response = requests.post(url, headers=headers, params=params, json=payload)\n",
        "\n",
        "  return response.json()\n"
      ]
    },
    {
      "cell_type": "code",
      "source": [
        "offer_list = get_job_list(\"python\")\n",
        "type(offer_list)"
      ],
      "metadata": {
        "colab": {
          "base_uri": "https://localhost:8080/"
        },
        "id": "P203PpAhpo2M",
        "outputId": "47693c83-3cb8-4ff7-9902-64abba383fdf"
      },
      "execution_count": 2,
      "outputs": [
        {
          "output_type": "execute_result",
          "data": {
            "text/plain": [
              "dict"
            ]
          },
          "metadata": {},
          "execution_count": 2
        }
      ]
    },
    {
      "cell_type": "code",
      "source": [
        "offer_list['postings'][215]['id']"
      ],
      "metadata": {
        "id": "dd9_KCa3qXLU",
        "colab": {
          "base_uri": "https://localhost:8080/",
          "height": 35
        },
        "outputId": "8afc35ee-7f6b-4543-d4e1-9efa90e939d5"
      },
      "execution_count": 3,
      "outputs": [
        {
          "output_type": "execute_result",
          "data": {
            "text/plain": [
              "'lead-full-stack-software-engineer-python-pandas-square-one-resources-west-pomeranian'"
            ],
            "application/vnd.google.colaboratory.intrinsic+json": {
              "type": "string"
            }
          },
          "metadata": {},
          "execution_count": 3
        }
      ]
    },
    {
      "cell_type": "code",
      "source": [
        "jobs_titles = []\n",
        "for offer in offer_list['postings']:\n",
        "  jobs_titles.append(offer['id'])"
      ],
      "metadata": {
        "id": "DIPmJbi1GuuM"
      },
      "execution_count": 4,
      "outputs": []
    },
    {
      "cell_type": "code",
      "source": [
        "job_details = get_job_details(jobs_titles[0])"
      ],
      "metadata": {
        "id": "5P0xo43gJCMU"
      },
      "execution_count": 5,
      "outputs": []
    },
    {
      "cell_type": "code",
      "source": [
        "keywords = [\n",
        "    \"python\", \"java\", \"javascript\", \"react\", \"django\", \"sql\", \"node\", \"devops\", \"qa\",\n",
        "    \"junior\", \"mid\", \"entry\", \"trainee\", \"intern\"\n",
        "]\n",
        "\n",
        "\n",
        "title_list = []\n",
        "for key in keywords:\n",
        "  offer_list = get_job_list(key)['postings']\n",
        "  for offer in offer_list:\n",
        "    title_list.append(offer['id'])\n",
        "len(title_list)"
      ],
      "metadata": {
        "colab": {
          "base_uri": "https://localhost:8080/"
        },
        "id": "jZYQg4w0Jmlm",
        "outputId": "af2ef862-ebce-423d-80b7-9f48e48ee01a"
      },
      "execution_count": 6,
      "outputs": [
        {
          "output_type": "execute_result",
          "data": {
            "text/plain": [
              "2020"
            ]
          },
          "metadata": {},
          "execution_count": 6
        }
      ]
    },
    {
      "cell_type": "code",
      "source": [
        "title_list[1]"
      ],
      "metadata": {
        "colab": {
          "base_uri": "https://localhost:8080/",
          "height": 35
        },
        "id": "o2Vh-j08Sw9H",
        "outputId": "783317da-626c-4731-f3e3-fd49484c3cbf"
      },
      "execution_count": 7,
      "outputs": [
        {
          "output_type": "execute_result",
          "data": {
            "text/plain": [
              "'senior-python-full-stack-developer-link-group-lower-silesian'"
            ],
            "application/vnd.google.colaboratory.intrinsic+json": {
              "type": "string"
            }
          },
          "metadata": {},
          "execution_count": 7
        }
      ]
    },
    {
      "cell_type": "code",
      "source": [
        "job_details = []\n",
        "\n",
        "for title in title_list:\n",
        "  job_details.append(get_job_details(title))\n"
      ],
      "metadata": {
        "id": "nUHC0SKyUteH"
      },
      "execution_count": 8,
      "outputs": []
    },
    {
      "cell_type": "code",
      "source": [
        "len(job_details)"
      ],
      "metadata": {
        "colab": {
          "base_uri": "https://localhost:8080/"
        },
        "id": "ISrU0-11VYVE",
        "outputId": "eb55b3f8-5935-4f78-cc2c-067a0aef7a59"
      },
      "execution_count": 9,
      "outputs": [
        {
          "output_type": "execute_result",
          "data": {
            "text/plain": [
              "2020"
            ]
          },
          "metadata": {},
          "execution_count": 9
        }
      ]
    },
    {
      "cell_type": "code",
      "source": [
        "from collections import Counter\n",
        "\n",
        "labels = [offer['basics']['seniority'][0].lower() for offer in job_details if offer.get('basics', {}).get('seniority')]\n",
        "print(Counter(labels))"
      ],
      "metadata": {
        "colab": {
          "base_uri": "https://localhost:8080/"
        },
        "id": "gtPKK2wGXCJf",
        "outputId": "c67255e7-d691-4bb5-f021-6b8ba056ada3"
      },
      "execution_count": 10,
      "outputs": [
        {
          "output_type": "stream",
          "name": "stdout",
          "text": [
            "Counter({'senior': 932, 'mid': 696, 'junior': 177, 'trainee': 144, 'expert': 71})\n"
          ]
        }
      ]
    },
    {
      "cell_type": "code",
      "source": [
        "jobs = {'senior':[], 'mid':[], 'junior':[]}"
      ],
      "metadata": {
        "id": "jo5Wm58uX8t8"
      },
      "execution_count": 11,
      "outputs": []
    },
    {
      "cell_type": "code",
      "source": [
        "for offer in job_details:\n",
        "  if offer.get('basics', {}).get('seniority'):\n",
        "    if 'senior' in offer['basics']['seniority'][0].lower():\n",
        "      jobs['senior'].append(offer)\n",
        "    if 'mid' in offer['basics']['seniority'][0].lower():\n",
        "      jobs['mid'].append(offer)\n",
        "    if 'junior' in offer['basics']['seniority'][0].lower():\n",
        "      jobs['junior'].append(offer)\n",
        "    if 'trainee' in offer['basics']['seniority'][0].lower():\n",
        "      jobs['junior'].append(offer)\n",
        "    if 'expert' in offer['basics']['seniority'][0].lower():\n",
        "      jobs['senior'].append(offer)"
      ],
      "metadata": {
        "id": "TJgvq2wqbYeK"
      },
      "execution_count": 12,
      "outputs": []
    },
    {
      "cell_type": "code",
      "source": [
        "len(jobs['senior'])"
      ],
      "metadata": {
        "colab": {
          "base_uri": "https://localhost:8080/"
        },
        "id": "l1-TYimCb3sw",
        "outputId": "9d9d81c5-1211-4ca3-b7cb-1420ad80708a"
      },
      "execution_count": 13,
      "outputs": [
        {
          "output_type": "execute_result",
          "data": {
            "text/plain": [
              "1003"
            ]
          },
          "metadata": {},
          "execution_count": 13
        }
      ]
    },
    {
      "cell_type": "code",
      "source": [
        "type(jobs['senior'][0])"
      ],
      "metadata": {
        "colab": {
          "base_uri": "https://localhost:8080/"
        },
        "id": "My7YXsywnDKU",
        "outputId": "1797628e-050b-4ee6-8f2d-95c3f77bb2cd"
      },
      "execution_count": 62,
      "outputs": [
        {
          "output_type": "execute_result",
          "data": {
            "text/plain": [
              "dict"
            ]
          },
          "metadata": {},
          "execution_count": 62
        }
      ]
    },
    {
      "cell_type": "code",
      "source": [
        "jobs['senior'][0]['title']"
      ],
      "metadata": {
        "colab": {
          "base_uri": "https://localhost:8080/",
          "height": 35
        },
        "id": "h2b96T0MfAc_",
        "outputId": "5b184fea-99d7-4e21-c949-07d4aae95894"
      },
      "execution_count": 14,
      "outputs": [
        {
          "output_type": "execute_result",
          "data": {
            "text/plain": [
              "'Senior Python Full-Stack Developer'"
            ],
            "application/vnd.google.colaboratory.intrinsic+json": {
              "type": "string"
            }
          },
          "metadata": {},
          "execution_count": 14
        }
      ]
    },
    {
      "cell_type": "code",
      "source": [
        "\n",
        "from bs4 import BeautifulSoup\n",
        "\n",
        "\n",
        "text = jobs['senior'][0]['requirements']['description']\n",
        "\n",
        "soup = BeautifulSoup(text, 'html.parser')\n",
        "clean_text = soup.get_text()\n",
        "print(clean_text)"
      ],
      "metadata": {
        "colab": {
          "base_uri": "https://localhost:8080/"
        },
        "id": "NwcFHmpGcXnP",
        "outputId": "758f291d-ca9f-42df-ab1f-d3491c941551"
      },
      "execution_count": 16,
      "outputs": [
        {
          "output_type": "stream",
          "name": "stdout",
          "text": [
            "\n",
            "5+ years of commercial experience in web-based application development\n",
            "Strong Python skills, including Django, Flask or FastAPI\n",
            "Very good JavaScript (ES6+), HTML5, CSS3\n",
            "Experience with React or Angular\n",
            "Understanding of OOP and functional programming\n",
            "Experience with REST APIs, microservices, SQL databases\n",
            "Knowledge of Clean Code, unit testing, CI/CD\n",
            "Experience with Git, Docker, and cloud deployments (AWS or Azure)\n",
            "Excellent English skills (spoken and written)\n",
            "Experience in agile teams and international projects\n",
            "\n",
            "Nice to have:\n",
            "\n",
            "Experience with Kubernetes\n",
            "Certifications in Python, SQL, AWS or Azure\n",
            "German or another European language\n",
            "\n"
          ]
        }
      ]
    },
    {
      "cell_type": "code",
      "source": [
        "jobs['senior'][0]['requirements']['musts'][0]"
      ],
      "metadata": {
        "colab": {
          "base_uri": "https://localhost:8080/"
        },
        "id": "knbPqbdndm4V",
        "outputId": "8ed0cbbc-e07f-4d0a-9e63-cf35a7916eff"
      },
      "execution_count": 17,
      "outputs": [
        {
          "output_type": "execute_result",
          "data": {
            "text/plain": [
              "{'value': 'Python', 'type': 'main'}"
            ]
          },
          "metadata": {},
          "execution_count": 17
        }
      ]
    },
    {
      "cell_type": "code",
      "source": [
        "for key in jobs['senior'][0]['requirements']['musts'][0]:\n",
        "  print(jobs['senior'][0]['requirements']['musts'][0][key])"
      ],
      "metadata": {
        "colab": {
          "base_uri": "https://localhost:8080/"
        },
        "id": "Lx31shPQek2d",
        "outputId": "ecc7de3e-3243-47f6-a08f-dff3de6514f0"
      },
      "execution_count": 18,
      "outputs": [
        {
          "output_type": "stream",
          "name": "stdout",
          "text": [
            "Python\n",
            "main\n"
          ]
        }
      ]
    },
    {
      "cell_type": "code",
      "source": [
        "new_offers = {'senior':['senior'], 'mid':['mid' ], 'junior':[ 'junior']}"
      ],
      "metadata": {
        "id": "3Yq-Nz56fTvg"
      },
      "execution_count": 51,
      "outputs": []
    },
    {
      "cell_type": "code",
      "source": [
        "for offer in jobs['senior']:\n",
        "  if offer['requirements']['description']:\n",
        "    soup = BeautifulSoup(offer['requirements']['description'], 'html.parser')\n",
        "    clean_text = soup.get_text()\n"
      ],
      "metadata": {
        "id": "SxDtbpW3iH8z"
      },
      "execution_count": 59,
      "outputs": []
    },
    {
      "cell_type": "code",
      "source": [],
      "metadata": {
        "colab": {
          "base_uri": "https://localhost:8080/"
        },
        "id": "HDN6EdN7jANZ",
        "outputId": "8701646a-36b6-40fe-fc92-7930f0e74bc9"
      },
      "execution_count": 61,
      "outputs": [
        {
          "output_type": "execute_result",
          "data": {
            "text/plain": [
              "{'senior': 'Senior Python Full-Stack Developer',\n",
              " 'mid': ['mid'],\n",
              " 'junior': ['junior']}"
            ]
          },
          "metadata": {},
          "execution_count": 61
        }
      ]
    },
    {
      "cell_type": "code",
      "source": [
        "from bs4 import BeautifulSoup\n",
        "\n",
        "def clean_html(html_str):\n",
        "    return BeautifulSoup(html_str or \"\", \"html.parser\").get_text(separator=\" \")\n",
        "\n",
        "sample = jobs[\"senior\"][0]\n",
        "text = f\"{sample['title']}\\n{clean_html(sample['requirements']['description'])}\\n{clean_html(sample['details']['description'])}\\n{clean_html(sample['requirements']['musts'][0])}\"\n",
        "print(text)\n"
      ],
      "metadata": {
        "colab": {
          "base_uri": "https://localhost:8080/",
          "height": 339
        },
        "id": "Rf6NkU8UlJ72",
        "outputId": "3fe6f7fc-4fb4-4bc3-d8a7-886aca674c54"
      },
      "execution_count": 71,
      "outputs": [
        {
          "output_type": "error",
          "ename": "TypeError",
          "evalue": "unhashable type: 'slice'",
          "traceback": [
            "\u001b[0;31m---------------------------------------------------------------------------\u001b[0m",
            "\u001b[0;31mTypeError\u001b[0m                                 Traceback (most recent call last)",
            "\u001b[0;32m/tmp/ipython-input-71-3972735980.py\u001b[0m in \u001b[0;36m<cell line: 0>\u001b[0;34m()\u001b[0m\n\u001b[1;32m      5\u001b[0m \u001b[0;34m\u001b[0m\u001b[0m\n\u001b[1;32m      6\u001b[0m \u001b[0msample\u001b[0m \u001b[0;34m=\u001b[0m \u001b[0mjobs\u001b[0m\u001b[0;34m[\u001b[0m\u001b[0;34m\"senior\"\u001b[0m\u001b[0;34m]\u001b[0m\u001b[0;34m[\u001b[0m\u001b[0;36m0\u001b[0m\u001b[0;34m]\u001b[0m\u001b[0;34m\u001b[0m\u001b[0;34m\u001b[0m\u001b[0m\n\u001b[0;32m----> 7\u001b[0;31m \u001b[0mtext\u001b[0m \u001b[0;34m=\u001b[0m \u001b[0;34mf\"{sample['title']}\\n{clean_html(sample['requirements']['description'])}\\n{clean_html(sample['details']['description'])}\\n{clean_html(sample['requirements']['musts'][0])}\"\u001b[0m\u001b[0;34m\u001b[0m\u001b[0;34m\u001b[0m\u001b[0m\n\u001b[0m\u001b[1;32m      8\u001b[0m \u001b[0mprint\u001b[0m\u001b[0;34m(\u001b[0m\u001b[0mtext\u001b[0m\u001b[0;34m)\u001b[0m\u001b[0;34m\u001b[0m\u001b[0;34m\u001b[0m\u001b[0m\n",
            "\u001b[0;32m/tmp/ipython-input-71-3972735980.py\u001b[0m in \u001b[0;36mclean_html\u001b[0;34m(html_str)\u001b[0m\n\u001b[1;32m      2\u001b[0m \u001b[0;34m\u001b[0m\u001b[0m\n\u001b[1;32m      3\u001b[0m \u001b[0;32mdef\u001b[0m \u001b[0mclean_html\u001b[0m\u001b[0;34m(\u001b[0m\u001b[0mhtml_str\u001b[0m\u001b[0;34m)\u001b[0m\u001b[0;34m:\u001b[0m\u001b[0;34m\u001b[0m\u001b[0;34m\u001b[0m\u001b[0m\n\u001b[0;32m----> 4\u001b[0;31m     \u001b[0;32mreturn\u001b[0m \u001b[0mBeautifulSoup\u001b[0m\u001b[0;34m(\u001b[0m\u001b[0mhtml_str\u001b[0m \u001b[0;32mor\u001b[0m \u001b[0;34m\"\"\u001b[0m\u001b[0;34m,\u001b[0m \u001b[0;34m\"html.parser\"\u001b[0m\u001b[0;34m)\u001b[0m\u001b[0;34m.\u001b[0m\u001b[0mget_text\u001b[0m\u001b[0;34m(\u001b[0m\u001b[0mseparator\u001b[0m\u001b[0;34m=\u001b[0m\u001b[0;34m\" \"\u001b[0m\u001b[0;34m)\u001b[0m\u001b[0;34m\u001b[0m\u001b[0;34m\u001b[0m\u001b[0m\n\u001b[0m\u001b[1;32m      5\u001b[0m \u001b[0;34m\u001b[0m\u001b[0m\n\u001b[1;32m      6\u001b[0m \u001b[0msample\u001b[0m \u001b[0;34m=\u001b[0m \u001b[0mjobs\u001b[0m\u001b[0;34m[\u001b[0m\u001b[0;34m\"senior\"\u001b[0m\u001b[0;34m]\u001b[0m\u001b[0;34m[\u001b[0m\u001b[0;36m0\u001b[0m\u001b[0;34m]\u001b[0m\u001b[0;34m\u001b[0m\u001b[0;34m\u001b[0m\u001b[0m\n",
            "\u001b[0;32m/usr/local/lib/python3.11/dist-packages/bs4/__init__.py\u001b[0m in \u001b[0;36m__init__\u001b[0;34m(self, markup, features, builder, parse_only, from_encoding, exclude_encodings, element_classes, **kwargs)\u001b[0m\n\u001b[1;32m    460\u001b[0m         \u001b[0mrejections\u001b[0m \u001b[0;34m=\u001b[0m \u001b[0;34m[\u001b[0m\u001b[0;34m]\u001b[0m\u001b[0;34m\u001b[0m\u001b[0;34m\u001b[0m\u001b[0m\n\u001b[1;32m    461\u001b[0m         \u001b[0msuccess\u001b[0m \u001b[0;34m=\u001b[0m \u001b[0;32mFalse\u001b[0m\u001b[0;34m\u001b[0m\u001b[0;34m\u001b[0m\u001b[0m\n\u001b[0;32m--> 462\u001b[0;31m         for (\n\u001b[0m\u001b[1;32m    463\u001b[0m             \u001b[0mself\u001b[0m\u001b[0;34m.\u001b[0m\u001b[0mmarkup\u001b[0m\u001b[0;34m,\u001b[0m\u001b[0;34m\u001b[0m\u001b[0;34m\u001b[0m\u001b[0m\n\u001b[1;32m    464\u001b[0m             \u001b[0mself\u001b[0m\u001b[0;34m.\u001b[0m\u001b[0moriginal_encoding\u001b[0m\u001b[0;34m,\u001b[0m\u001b[0;34m\u001b[0m\u001b[0;34m\u001b[0m\u001b[0m\n",
            "\u001b[0;32m/usr/local/lib/python3.11/dist-packages/bs4/builder/_htmlparser.py\u001b[0m in \u001b[0;36mprepare_markup\u001b[0;34m(self, markup, user_specified_encoding, document_declared_encoding, exclude_encodings)\u001b[0m\n\u001b[1;32m    421\u001b[0m             \u001b[0muser_encodings\u001b[0m\u001b[0;34m.\u001b[0m\u001b[0mappend\u001b[0m\u001b[0;34m(\u001b[0m\u001b[0mdocument_declared_encoding\u001b[0m\u001b[0;34m)\u001b[0m\u001b[0;34m\u001b[0m\u001b[0;34m\u001b[0m\u001b[0m\n\u001b[1;32m    422\u001b[0m \u001b[0;34m\u001b[0m\u001b[0m\n\u001b[0;32m--> 423\u001b[0;31m         dammit = UnicodeDammit(\n\u001b[0m\u001b[1;32m    424\u001b[0m             \u001b[0mmarkup\u001b[0m\u001b[0;34m,\u001b[0m\u001b[0;34m\u001b[0m\u001b[0;34m\u001b[0m\u001b[0m\n\u001b[1;32m    425\u001b[0m             \u001b[0mknown_definite_encodings\u001b[0m\u001b[0;34m=\u001b[0m\u001b[0mknown_definite_encodings\u001b[0m\u001b[0;34m,\u001b[0m\u001b[0;34m\u001b[0m\u001b[0;34m\u001b[0m\u001b[0m\n",
            "\u001b[0;32m/usr/local/lib/python3.11/dist-packages/bs4/dammit.py\u001b[0m in \u001b[0;36m__init__\u001b[0;34m(self, markup, known_definite_encodings, smart_quotes_to, is_html, exclude_encodings, user_encodings, override_encodings)\u001b[0m\n\u001b[1;32m    788\u001b[0m         \u001b[0mself\u001b[0m\u001b[0;34m.\u001b[0m\u001b[0mis_html\u001b[0m \u001b[0;34m=\u001b[0m \u001b[0mis_html\u001b[0m\u001b[0;34m\u001b[0m\u001b[0;34m\u001b[0m\u001b[0m\n\u001b[1;32m    789\u001b[0m         \u001b[0mself\u001b[0m\u001b[0;34m.\u001b[0m\u001b[0mlog\u001b[0m \u001b[0;34m=\u001b[0m \u001b[0mgetLogger\u001b[0m\u001b[0;34m(\u001b[0m\u001b[0m__name__\u001b[0m\u001b[0;34m)\u001b[0m\u001b[0;34m\u001b[0m\u001b[0;34m\u001b[0m\u001b[0m\n\u001b[0;32m--> 790\u001b[0;31m         self.detector = EncodingDetector(\n\u001b[0m\u001b[1;32m    791\u001b[0m             \u001b[0mmarkup\u001b[0m\u001b[0;34m,\u001b[0m\u001b[0;34m\u001b[0m\u001b[0;34m\u001b[0m\u001b[0m\n\u001b[1;32m    792\u001b[0m             \u001b[0mknown_definite_encodings\u001b[0m\u001b[0;34m,\u001b[0m\u001b[0;34m\u001b[0m\u001b[0;34m\u001b[0m\u001b[0m\n",
            "\u001b[0;32m/usr/local/lib/python3.11/dist-packages/bs4/dammit.py\u001b[0m in \u001b[0;36m__init__\u001b[0;34m(self, markup, known_definite_encodings, is_html, exclude_encodings, user_encodings, override_encodings)\u001b[0m\n\u001b[1;32m    563\u001b[0m \u001b[0;34m\u001b[0m\u001b[0m\n\u001b[1;32m    564\u001b[0m         \u001b[0;31m# First order of business: strip a byte-order mark.\u001b[0m\u001b[0;34m\u001b[0m\u001b[0;34m\u001b[0m\u001b[0m\n\u001b[0;32m--> 565\u001b[0;31m         \u001b[0mself\u001b[0m\u001b[0;34m.\u001b[0m\u001b[0mmarkup\u001b[0m\u001b[0;34m,\u001b[0m \u001b[0mself\u001b[0m\u001b[0;34m.\u001b[0m\u001b[0msniffed_encoding\u001b[0m \u001b[0;34m=\u001b[0m \u001b[0mself\u001b[0m\u001b[0;34m.\u001b[0m\u001b[0mstrip_byte_order_mark\u001b[0m\u001b[0;34m(\u001b[0m\u001b[0mmarkup\u001b[0m\u001b[0;34m)\u001b[0m\u001b[0;34m\u001b[0m\u001b[0;34m\u001b[0m\u001b[0m\n\u001b[0m\u001b[1;32m    566\u001b[0m \u001b[0;34m\u001b[0m\u001b[0m\n\u001b[1;32m    567\u001b[0m     \u001b[0mknown_definite_encodings\u001b[0m\u001b[0;34m:\u001b[0m \u001b[0m_Encodings\u001b[0m\u001b[0;34m\u001b[0m\u001b[0;34m\u001b[0m\u001b[0m\n",
            "\u001b[0;32m/usr/local/lib/python3.11/dist-packages/bs4/dammit.py\u001b[0m in \u001b[0;36mstrip_byte_order_mark\u001b[0;34m(cls, data)\u001b[0m\n\u001b[1;32m    670\u001b[0m             \u001b[0mencoding\u001b[0m \u001b[0;34m=\u001b[0m \u001b[0;34m\"utf-16le\"\u001b[0m\u001b[0;34m\u001b[0m\u001b[0;34m\u001b[0m\u001b[0m\n\u001b[1;32m    671\u001b[0m             \u001b[0mdata\u001b[0m \u001b[0;34m=\u001b[0m \u001b[0mdata\u001b[0m\u001b[0;34m[\u001b[0m\u001b[0;36m2\u001b[0m\u001b[0;34m:\u001b[0m\u001b[0;34m]\u001b[0m\u001b[0;34m\u001b[0m\u001b[0;34m\u001b[0m\u001b[0m\n\u001b[0;32m--> 672\u001b[0;31m         \u001b[0;32melif\u001b[0m \u001b[0mdata\u001b[0m\u001b[0;34m[\u001b[0m\u001b[0;34m:\u001b[0m\u001b[0;36m3\u001b[0m\u001b[0;34m]\u001b[0m \u001b[0;34m==\u001b[0m \u001b[0;34mb\"\\xef\\xbb\\xbf\"\u001b[0m\u001b[0;34m:\u001b[0m\u001b[0;34m\u001b[0m\u001b[0;34m\u001b[0m\u001b[0m\n\u001b[0m\u001b[1;32m    673\u001b[0m             \u001b[0mencoding\u001b[0m \u001b[0;34m=\u001b[0m \u001b[0;34m\"utf-8\"\u001b[0m\u001b[0;34m\u001b[0m\u001b[0;34m\u001b[0m\u001b[0m\n\u001b[1;32m    674\u001b[0m             \u001b[0mdata\u001b[0m \u001b[0;34m=\u001b[0m \u001b[0mdata\u001b[0m\u001b[0;34m[\u001b[0m\u001b[0;36m3\u001b[0m\u001b[0;34m:\u001b[0m\u001b[0;34m]\u001b[0m\u001b[0;34m\u001b[0m\u001b[0;34m\u001b[0m\u001b[0m\n",
            "\u001b[0;31mTypeError\u001b[0m: unhashable type: 'slice'"
          ]
        }
      ]
    },
    {
      "cell_type": "code",
      "source": [
        "from bs4 import BeautifulSoup\n",
        "import pandas as pd\n",
        "\n",
        "def clean_html(html_str):\n",
        "    return BeautifulSoup(html_str or \"\", \"html.parser\").get_text(separator=\" \")\n",
        "\n",
        "dataset = []\n",
        "\n",
        "for label, offers in jobs.items():\n",
        "    for offer in offers:\n",
        "        title = offer.get(\"title\", \"\")\n",
        "\n",
        "        desc_html = offer.get(\"details\", {}).get(\"description\", \"\")\n",
        "        req_html = offer.get(\"requirements\", {}).get(\"description\", \"\")\n",
        "\n",
        "        musts = offer.get(\"requirements\", {}).get(\"musts\", [])\n",
        "        nices = offer.get(\"requirements\", {}).get(\"nices\", [])\n",
        "\n",
        "        must_skills = \" \".join([m.get(\"value\", \"\") for m in musts])\n",
        "        nice_skills = \" \".join([n.get(\"value\", \"\") for n in nices])\n",
        "\n",
        "        desc_text = clean_html(desc_html)\n",
        "        req_text = clean_html(req_html)\n",
        "\n",
        "        full_text = f\"{title}\\n{desc_text}\\n{req_text}\\nMust have: {must_skills}\\nNice to have: {nice_skills}\"\n",
        "\n",
        "        dataset.append({\n",
        "            \"text\": full_text,\n",
        "            \"label\": label\n",
        "        })\n",
        "\n",
        "# Konwersja do DataFrame i zapis\n",
        "df = pd.DataFrame(dataset)\n",
        "df.to_csv(\"job_offers_dataset.csv\", index=False)\n",
        "print(\"✅ Zapisano plik job_offers_dataset.csv\")\n"
      ],
      "metadata": {
        "colab": {
          "base_uri": "https://localhost:8080/"
        },
        "id": "OnOy7u03nngZ",
        "outputId": "9114a0b6-a6b0-4206-c458-6f670ad49442"
      },
      "execution_count": 72,
      "outputs": [
        {
          "output_type": "stream",
          "name": "stdout",
          "text": [
            "✅ Zapisano plik job_offers_dataset.csv\n"
          ]
        }
      ]
    },
    {
      "cell_type": "code",
      "source": [
        "df['label'].value_counts()"
      ],
      "metadata": {
        "colab": {
          "base_uri": "https://localhost:8080/",
          "height": 210
        },
        "id": "OuNCcNkLpY-n",
        "outputId": "392c2b51-ea82-4263-c7ab-0ca1bac0d3e0"
      },
      "execution_count": 79,
      "outputs": [
        {
          "output_type": "execute_result",
          "data": {
            "text/plain": [
              "label\n",
              "senior    1003\n",
              "mid        696\n",
              "junior     321\n",
              "Name: count, dtype: int64"
            ],
            "text/html": [
              "<div>\n",
              "<style scoped>\n",
              "    .dataframe tbody tr th:only-of-type {\n",
              "        vertical-align: middle;\n",
              "    }\n",
              "\n",
              "    .dataframe tbody tr th {\n",
              "        vertical-align: top;\n",
              "    }\n",
              "\n",
              "    .dataframe thead th {\n",
              "        text-align: right;\n",
              "    }\n",
              "</style>\n",
              "<table border=\"1\" class=\"dataframe\">\n",
              "  <thead>\n",
              "    <tr style=\"text-align: right;\">\n",
              "      <th></th>\n",
              "      <th>count</th>\n",
              "    </tr>\n",
              "    <tr>\n",
              "      <th>label</th>\n",
              "      <th></th>\n",
              "    </tr>\n",
              "  </thead>\n",
              "  <tbody>\n",
              "    <tr>\n",
              "      <th>senior</th>\n",
              "      <td>1003</td>\n",
              "    </tr>\n",
              "    <tr>\n",
              "      <th>mid</th>\n",
              "      <td>696</td>\n",
              "    </tr>\n",
              "    <tr>\n",
              "      <th>junior</th>\n",
              "      <td>321</td>\n",
              "    </tr>\n",
              "  </tbody>\n",
              "</table>\n",
              "</div><br><label><b>dtype:</b> int64</label>"
            ]
          },
          "metadata": {},
          "execution_count": 79
        }
      ]
    },
    {
      "cell_type": "code",
      "source": [
        "min_count = 321"
      ],
      "metadata": {
        "id": "9csGOkwYqCtD"
      },
      "execution_count": 89,
      "outputs": []
    },
    {
      "cell_type": "code",
      "source": [
        "senior = df[df['label'] == 'senior'].sample(n=min_count, random_state=42)\n",
        "mid = df[df['label'] == 'mid'].sample(n=min_count, random_state=42)\n",
        "junior = df[df['label'] == 'junior'].sample(n=min_count, random_state=42)"
      ],
      "metadata": {
        "id": "fnTLsRnirCJk"
      },
      "execution_count": 92,
      "outputs": []
    },
    {
      "cell_type": "code",
      "source": [
        "new_df = pd.concat([senior, mid, junior], ignore_index=True)\n"
      ],
      "metadata": {
        "id": "HieVJppqrPLL"
      },
      "execution_count": 97,
      "outputs": []
    },
    {
      "cell_type": "code",
      "source": [
        "new_df['label'].value_counts()"
      ],
      "metadata": {
        "colab": {
          "base_uri": "https://localhost:8080/",
          "height": 210
        },
        "id": "B9fTsrnUrxbk",
        "outputId": "8cee0e05-f7e4-4018-bc15-0602c3c7067d"
      },
      "execution_count": 99,
      "outputs": [
        {
          "output_type": "execute_result",
          "data": {
            "text/plain": [
              "label\n",
              "senior    321\n",
              "mid       321\n",
              "junior    321\n",
              "Name: count, dtype: int64"
            ],
            "text/html": [
              "<div>\n",
              "<style scoped>\n",
              "    .dataframe tbody tr th:only-of-type {\n",
              "        vertical-align: middle;\n",
              "    }\n",
              "\n",
              "    .dataframe tbody tr th {\n",
              "        vertical-align: top;\n",
              "    }\n",
              "\n",
              "    .dataframe thead th {\n",
              "        text-align: right;\n",
              "    }\n",
              "</style>\n",
              "<table border=\"1\" class=\"dataframe\">\n",
              "  <thead>\n",
              "    <tr style=\"text-align: right;\">\n",
              "      <th></th>\n",
              "      <th>count</th>\n",
              "    </tr>\n",
              "    <tr>\n",
              "      <th>label</th>\n",
              "      <th></th>\n",
              "    </tr>\n",
              "  </thead>\n",
              "  <tbody>\n",
              "    <tr>\n",
              "      <th>senior</th>\n",
              "      <td>321</td>\n",
              "    </tr>\n",
              "    <tr>\n",
              "      <th>mid</th>\n",
              "      <td>321</td>\n",
              "    </tr>\n",
              "    <tr>\n",
              "      <th>junior</th>\n",
              "      <td>321</td>\n",
              "    </tr>\n",
              "  </tbody>\n",
              "</table>\n",
              "</div><br><label><b>dtype:</b> int64</label>"
            ]
          },
          "metadata": {},
          "execution_count": 99
        }
      ]
    },
    {
      "cell_type": "code",
      "source": [],
      "metadata": {
        "id": "m9TaHtl3sDnb"
      },
      "execution_count": null,
      "outputs": []
    }
  ]
}