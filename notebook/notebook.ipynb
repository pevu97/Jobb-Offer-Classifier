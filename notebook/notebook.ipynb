{
  "nbformat": 4,
  "nbformat_minor": 0,
  "metadata": {
    "colab": {
      "provenance": [],
      "authorship_tag": "ABX9TyM5jeu7AdC/LwpA88cuRZv9",
      "include_colab_link": true
    },
    "kernelspec": {
      "name": "python3",
      "display_name": "Python 3"
    },
    "language_info": {
      "name": "python"
    }
  },
  "cells": [
    {
      "cell_type": "markdown",
      "metadata": {
        "id": "view-in-github",
        "colab_type": "text"
      },
      "source": [
        "<a href=\"https://colab.research.google.com/github/pevu97/Jobb-Offer-Classifier/blob/main/notebook/notebook.ipynb\" target=\"_parent\"><img src=\"https://colab.research.google.com/assets/colab-badge.svg\" alt=\"Open In Colab\"/></a>"
      ]
    },
    {
      "cell_type": "code",
      "execution_count": 108,
      "metadata": {
        "colab": {
          "base_uri": "https://localhost:8080/"
        },
        "id": "FWBAccqmk8tV",
        "outputId": "0c3374fd-bf7a-4342-b8cf-50949d5f178a"
      },
      "outputs": [
        {
          "output_type": "stream",
          "name": "stdout",
          "text": [
            "Requirement already satisfied: beautifulsoup4 in /usr/local/lib/python3.11/dist-packages (4.13.4)\n",
            "Requirement already satisfied: soupsieve>1.2 in /usr/local/lib/python3.11/dist-packages (from beautifulsoup4) (2.7)\n",
            "Requirement already satisfied: typing-extensions>=4.0.0 in /usr/local/lib/python3.11/dist-packages (from beautifulsoup4) (4.14.1)\n"
          ]
        }
      ],
      "source": [
        "import requests\n",
        "!pip install beautifulsoup4\n",
        "\n",
        "def get_job_details(job_id):\n",
        "  job_id = job_id\n",
        "  url = f\"https://nofluffjobs.com/api/posting/{job_id}\"\n",
        "\n",
        "  headers = {\n",
        "      \"User-Agent\": \"Mozilla/5.0\",\n",
        "      \"Accept\": \"application/json\"\n",
        "  }\n",
        "\n",
        "  response = requests.get(url, headers=headers)\n",
        "\n",
        "  return response.json()\n",
        "\n",
        "\n",
        "def get_job_list(sentence):\n",
        "  url = \"https://nofluffjobs.com/api/search/posting\"\n",
        "  params = {\n",
        "      \"pageFrom\": 1,\n",
        "      \"pageTo\": 1,\n",
        "      \"pageSize\": 20,\n",
        "      \"salaryCurrency\": \"PLN\",\n",
        "      \"salaryPeriod\": \"month\",\n",
        "      \"region\": \"pl\",\n",
        "      \"language\": \"pl-PL\",\n",
        "      \"withSalaryMatch\": \"true\"\n",
        "  }\n",
        "\n",
        "  headers = {\n",
        "      \"Content-Type\": \"application/infiniteSearch+json\",\n",
        "      \"User-Agent\": \"Mozilla/5.0\"\n",
        "  }\n",
        "\n",
        "  payload = {\n",
        "      \"rawSearch\": f\"requirement={sentence}\"\n",
        "  }\n",
        "\n",
        "  response = requests.post(url, headers=headers, params=params, json=payload)\n",
        "\n",
        "  return response.json()\n"
      ]
    },
    {
      "cell_type": "code",
      "source": [
        "offer_list = get_job_list(\"python\")\n",
        "type(offer_list)"
      ],
      "metadata": {
        "colab": {
          "base_uri": "https://localhost:8080/"
        },
        "id": "P203PpAhpo2M",
        "outputId": "78f7a37d-4288-43fc-bd2d-5e97a6239db1"
      },
      "execution_count": 7,
      "outputs": [
        {
          "output_type": "execute_result",
          "data": {
            "text/plain": [
              "dict"
            ]
          },
          "metadata": {},
          "execution_count": 7
        }
      ]
    },
    {
      "cell_type": "code",
      "source": [
        "offer_list['postings'][215]['id']"
      ],
      "metadata": {
        "id": "dd9_KCa3qXLU",
        "colab": {
          "base_uri": "https://localhost:8080/",
          "height": 35
        },
        "outputId": "2c5e2be4-4485-4a17-9658-9ad897feb912"
      },
      "execution_count": 32,
      "outputs": [
        {
          "output_type": "execute_result",
          "data": {
            "text/plain": [
              "'senior-fullstack-developer-python-javascript-order-group-west-pomeranian'"
            ],
            "application/vnd.google.colaboratory.intrinsic+json": {
              "type": "string"
            }
          },
          "metadata": {},
          "execution_count": 32
        }
      ]
    },
    {
      "cell_type": "code",
      "source": [
        "jobs_titles = []\n",
        "for offer in offer_list['postings']:\n",
        "  jobs_titles.append(offer['id'])"
      ],
      "metadata": {
        "id": "DIPmJbi1GuuM"
      },
      "execution_count": 16,
      "outputs": []
    },
    {
      "cell_type": "code",
      "source": [
        "job_details = get_job_details(jobs_titles[0])"
      ],
      "metadata": {
        "id": "5P0xo43gJCMU"
      },
      "execution_count": 19,
      "outputs": []
    },
    {
      "cell_type": "code",
      "source": [
        "keywords = [\n",
        "    \"python\", \"java\", \"javascript\", \"react\", \"django\", \"sql\", \"node\", \"devops\", \"qa\",\n",
        "    \"junior\", \"mid\", \"entry\", \"trainee\", \"intern\"\n",
        "]\n",
        "\n",
        "\n",
        "title_list = []\n",
        "for key in keywords:\n",
        "  offer_list = get_job_list(key)['postings']\n",
        "  for offer in offer_list:\n",
        "    title_list.append(offer['id'])\n",
        "len(title_list)"
      ],
      "metadata": {
        "colab": {
          "base_uri": "https://localhost:8080/"
        },
        "id": "jZYQg4w0Jmlm",
        "outputId": "43317031-3d62-4f1f-cdb5-0a615125d9c6"
      },
      "execution_count": 48,
      "outputs": [
        {
          "output_type": "execute_result",
          "data": {
            "text/plain": [
              "1929"
            ]
          },
          "metadata": {},
          "execution_count": 48
        }
      ]
    },
    {
      "cell_type": "code",
      "source": [
        "title_list[1]"
      ],
      "metadata": {
        "colab": {
          "base_uri": "https://localhost:8080/",
          "height": 35
        },
        "id": "o2Vh-j08Sw9H",
        "outputId": "056a96e0-cc48-4902-d47e-bbb349561fbb"
      },
      "execution_count": 49,
      "outputs": [
        {
          "output_type": "execute_result",
          "data": {
            "text/plain": [
              "'senior-python-full-stack-developer-link-group-lower-silesian'"
            ],
            "application/vnd.google.colaboratory.intrinsic+json": {
              "type": "string"
            }
          },
          "metadata": {},
          "execution_count": 49
        }
      ]
    },
    {
      "cell_type": "code",
      "source": [
        "job_details = []\n",
        "\n",
        "for title in title_list:\n",
        "  job_details.append(get_job_details(title))\n"
      ],
      "metadata": {
        "id": "nUHC0SKyUteH"
      },
      "execution_count": 50,
      "outputs": []
    },
    {
      "cell_type": "code",
      "source": [
        "len(job_details)"
      ],
      "metadata": {
        "colab": {
          "base_uri": "https://localhost:8080/"
        },
        "id": "ISrU0-11VYVE",
        "outputId": "9e9e2434-c0bf-4c7a-e8e1-3717ca682fd2"
      },
      "execution_count": 46,
      "outputs": [
        {
          "output_type": "execute_result",
          "data": {
            "text/plain": [
              "1974"
            ]
          },
          "metadata": {},
          "execution_count": 46
        }
      ]
    },
    {
      "cell_type": "code",
      "source": [
        "from collections import Counter\n",
        "\n",
        "labels = [offer['basics']['seniority'][0].lower() for offer in job_details if offer.get('basics', {}).get('seniority')]\n",
        "print(Counter(labels))"
      ],
      "metadata": {
        "colab": {
          "base_uri": "https://localhost:8080/"
        },
        "id": "gtPKK2wGXCJf",
        "outputId": "1301cfab-bba2-4ca1-9fc6-9530671e852c"
      },
      "execution_count": 51,
      "outputs": [
        {
          "output_type": "stream",
          "name": "stdout",
          "text": [
            "Counter({'senior': 917, 'mid': 636, 'junior': 178, 'trainee': 144, 'expert': 54})\n"
          ]
        }
      ]
    },
    {
      "cell_type": "code",
      "source": [
        "jobs = {'senior':[], 'mid':[], 'junior':[]}"
      ],
      "metadata": {
        "id": "jo5Wm58uX8t8"
      },
      "execution_count": 68,
      "outputs": []
    },
    {
      "cell_type": "code",
      "source": [
        "for offer in job_details:\n",
        "  if offer.get('basics', {}).get('seniority'):\n",
        "    if 'senior' in offer['basics']['seniority'][0].lower():\n",
        "      jobs['senior'].append(offer)\n",
        "    if 'mid' in offer['basics']['seniority'][0].lower():\n",
        "      jobs['mid'].append(offer)\n",
        "    if 'junior' in offer['basics']['seniority'][0].lower():\n",
        "      jobs['junior'].append(offer)\n",
        "    if 'trainee' in offer['basics']['seniority'][0].lower():\n",
        "      jobs['junior'].append(offer)\n",
        "    if 'expert' in offer['basics']['seniority'][0].lower():\n",
        "      jobs['senior'].append(offer)"
      ],
      "metadata": {
        "id": "TJgvq2wqbYeK"
      },
      "execution_count": 69,
      "outputs": []
    },
    {
      "cell_type": "code",
      "source": [
        "len(jobs['senior'])"
      ],
      "metadata": {
        "colab": {
          "base_uri": "https://localhost:8080/"
        },
        "id": "l1-TYimCb3sw",
        "outputId": "58245bc5-8fbf-43c5-fd0b-0dc29d742c16"
      },
      "execution_count": 71,
      "outputs": [
        {
          "output_type": "execute_result",
          "data": {
            "text/plain": [
              "971"
            ]
          },
          "metadata": {},
          "execution_count": 71
        }
      ]
    },
    {
      "cell_type": "code",
      "source": [
        "jobs['senior'][0]['title']"
      ],
      "metadata": {
        "id": "h2b96T0MfAc_",
        "outputId": "627c5687-580a-4926-de99-ffc34e0b6233",
        "colab": {
          "base_uri": "https://localhost:8080/",
          "height": 35
        }
      },
      "execution_count": 102,
      "outputs": [
        {
          "output_type": "execute_result",
          "data": {
            "text/plain": [
              "'Senior Python Full-Stack Developer'"
            ],
            "application/vnd.google.colaboratory.intrinsic+json": {
              "type": "string"
            }
          },
          "metadata": {},
          "execution_count": 102
        }
      ]
    },
    {
      "cell_type": "code",
      "source": [
        "\n",
        "from bs4 import BeautifulSoup\n",
        "\n",
        "\n",
        "text = jobs['senior'][0]['requirements']['description']\n",
        "\n",
        "soup = BeautifulSoup(text, 'html.praser')\n",
        "clean_text = soup.get_text()\n",
        "print(clean_text)"
      ],
      "metadata": {
        "colab": {
          "base_uri": "https://localhost:8080/",
          "height": 384
        },
        "id": "NwcFHmpGcXnP",
        "outputId": "4142f360-58e5-4572-cd0e-04a5d19b193d"
      },
      "execution_count": 110,
      "outputs": [
        {
          "output_type": "stream",
          "name": "stdout",
          "text": [
            "Requirement already satisfied: beautifulsoup4 in /usr/local/lib/python3.11/dist-packages (4.13.4)\n",
            "Requirement already satisfied: soupsieve>1.2 in /usr/local/lib/python3.11/dist-packages (from beautifulsoup4) (2.7)\n",
            "Requirement already satisfied: typing-extensions>=4.0.0 in /usr/local/lib/python3.11/dist-packages (from beautifulsoup4) (4.14.1)\n"
          ]
        },
        {
          "output_type": "error",
          "ename": "FeatureNotFound",
          "evalue": "Couldn't find a tree builder with the features you requested: html.praser. Do you need to install a parser library?",
          "traceback": [
            "\u001b[0;31m---------------------------------------------------------------------------\u001b[0m",
            "\u001b[0;31mFeatureNotFound\u001b[0m                           Traceback (most recent call last)",
            "\u001b[0;32m/tmp/ipython-input-110-773065076.py\u001b[0m in \u001b[0;36m<cell line: 0>\u001b[0;34m()\u001b[0m\n\u001b[1;32m      5\u001b[0m \u001b[0mtext\u001b[0m \u001b[0;34m=\u001b[0m \u001b[0mjobs\u001b[0m\u001b[0;34m[\u001b[0m\u001b[0;34m'senior'\u001b[0m\u001b[0;34m]\u001b[0m\u001b[0;34m[\u001b[0m\u001b[0;36m0\u001b[0m\u001b[0;34m]\u001b[0m\u001b[0;34m[\u001b[0m\u001b[0;34m'requirements'\u001b[0m\u001b[0;34m]\u001b[0m\u001b[0;34m[\u001b[0m\u001b[0;34m'description'\u001b[0m\u001b[0;34m]\u001b[0m\u001b[0;34m\u001b[0m\u001b[0;34m\u001b[0m\u001b[0m\n\u001b[1;32m      6\u001b[0m \u001b[0;34m\u001b[0m\u001b[0m\n\u001b[0;32m----> 7\u001b[0;31m \u001b[0msoup\u001b[0m \u001b[0;34m=\u001b[0m \u001b[0mBeautifulSoup\u001b[0m\u001b[0;34m(\u001b[0m\u001b[0mtext\u001b[0m\u001b[0;34m,\u001b[0m \u001b[0;34m'html.praser'\u001b[0m\u001b[0;34m)\u001b[0m\u001b[0;34m\u001b[0m\u001b[0;34m\u001b[0m\u001b[0m\n\u001b[0m\u001b[1;32m      8\u001b[0m \u001b[0mclean_text\u001b[0m \u001b[0;34m=\u001b[0m \u001b[0msoup\u001b[0m\u001b[0;34m.\u001b[0m\u001b[0mget_text\u001b[0m\u001b[0;34m(\u001b[0m\u001b[0;34m)\u001b[0m\u001b[0;34m\u001b[0m\u001b[0;34m\u001b[0m\u001b[0m\n\u001b[1;32m      9\u001b[0m \u001b[0mprint\u001b[0m\u001b[0;34m(\u001b[0m\u001b[0mclean_text\u001b[0m\u001b[0;34m)\u001b[0m\u001b[0;34m\u001b[0m\u001b[0;34m\u001b[0m\u001b[0m\n",
            "\u001b[0;32m/usr/local/lib/python3.11/dist-packages/bs4/__init__.py\u001b[0m in \u001b[0;36m__init__\u001b[0;34m(self, markup, features, builder, parse_only, from_encoding, exclude_encodings, element_classes, **kwargs)\u001b[0m\n\u001b[1;32m    362\u001b[0m             \u001b[0mpossible_builder_class\u001b[0m \u001b[0;34m=\u001b[0m \u001b[0mbuilder_registry\u001b[0m\u001b[0;34m.\u001b[0m\u001b[0mlookup\u001b[0m\u001b[0;34m(\u001b[0m\u001b[0;34m*\u001b[0m\u001b[0mfeatures\u001b[0m\u001b[0;34m)\u001b[0m\u001b[0;34m\u001b[0m\u001b[0;34m\u001b[0m\u001b[0m\n\u001b[1;32m    363\u001b[0m             \u001b[0;32mif\u001b[0m \u001b[0mpossible_builder_class\u001b[0m \u001b[0;32mis\u001b[0m \u001b[0;32mNone\u001b[0m\u001b[0;34m:\u001b[0m\u001b[0;34m\u001b[0m\u001b[0;34m\u001b[0m\u001b[0m\n\u001b[0;32m--> 364\u001b[0;31m                 raise FeatureNotFound(\n\u001b[0m\u001b[1;32m    365\u001b[0m                     \u001b[0;34m\"Couldn't find a tree builder with the features you \"\u001b[0m\u001b[0;34m\u001b[0m\u001b[0;34m\u001b[0m\u001b[0m\n\u001b[1;32m    366\u001b[0m                     \u001b[0;34m\"requested: %s. Do you need to install a parser library?\"\u001b[0m\u001b[0;34m\u001b[0m\u001b[0;34m\u001b[0m\u001b[0m\n",
            "\u001b[0;31mFeatureNotFound\u001b[0m: Couldn't find a tree builder with the features you requested: html.praser. Do you need to install a parser library?"
          ]
        }
      ]
    },
    {
      "cell_type": "code",
      "source": [
        "jobs['senior'][0]['requirements']['musts'][0]"
      ],
      "metadata": {
        "id": "knbPqbdndm4V",
        "outputId": "3062c8b4-a49d-45be-c14d-423ba06bfcff",
        "colab": {
          "base_uri": "https://localhost:8080/"
        }
      },
      "execution_count": 96,
      "outputs": [
        {
          "output_type": "execute_result",
          "data": {
            "text/plain": [
              "{'value': 'Python', 'type': 'main'}"
            ]
          },
          "metadata": {},
          "execution_count": 96
        }
      ]
    },
    {
      "cell_type": "code",
      "source": [
        "for key in jobs['senior'][0]['requirements']['musts'][0]:\n",
        "  print(jobs['senior'][0]['requirements']['musts'][0][key])"
      ],
      "metadata": {
        "id": "Lx31shPQek2d",
        "outputId": "b364312a-1f6d-4793-bc02-497d98368dbe",
        "colab": {
          "base_uri": "https://localhost:8080/"
        }
      },
      "execution_count": 105,
      "outputs": [
        {
          "output_type": "stream",
          "name": "stdout",
          "text": [
            "Python\n",
            "main\n"
          ]
        }
      ]
    },
    {
      "cell_type": "code",
      "source": [],
      "metadata": {
        "id": "3Yq-Nz56fTvg"
      },
      "execution_count": null,
      "outputs": []
    }
  ]
}