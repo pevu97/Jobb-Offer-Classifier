{
  "nbformat": 4,
  "nbformat_minor": 0,
  "metadata": {
    "colab": {
      "provenance": [],
      "authorship_tag": "ABX9TyPxDzBu2RlAgkvpV0PrKWEH",
      "include_colab_link": true
    },
    "kernelspec": {
      "name": "python3",
      "display_name": "Python 3"
    },
    "language_info": {
      "name": "python"
    }
  },
  "cells": [
    {
      "cell_type": "markdown",
      "metadata": {
        "id": "view-in-github",
        "colab_type": "text"
      },
      "source": [
        "<a href=\"https://colab.research.google.com/github/pevu97/Jobb-Offer-Classifier/blob/main/notebook/notebook.ipynb\" target=\"_parent\"><img src=\"https://colab.research.google.com/assets/colab-badge.svg\" alt=\"Open In Colab\"/></a>"
      ]
    },
    {
      "cell_type": "code",
      "execution_count": 1,
      "metadata": {
        "colab": {
          "base_uri": "https://localhost:8080/"
        },
        "id": "FWBAccqmk8tV",
        "outputId": "37559a6f-f000-4d76-b97b-797a7d2c583d"
      },
      "outputs": [
        {
          "output_type": "stream",
          "name": "stdout",
          "text": [
            "Requirement already satisfied: beautifulsoup4 in /usr/local/lib/python3.11/dist-packages (4.13.4)\n",
            "Requirement already satisfied: soupsieve>1.2 in /usr/local/lib/python3.11/dist-packages (from beautifulsoup4) (2.7)\n",
            "Requirement already satisfied: typing-extensions>=4.0.0 in /usr/local/lib/python3.11/dist-packages (from beautifulsoup4) (4.14.1)\n"
          ]
        }
      ],
      "source": [
        "import requests\n",
        "!pip install beautifulsoup4\n",
        "\n",
        "def get_job_details(job_id):\n",
        "  job_id = job_id\n",
        "  url = f\"https://nofluffjobs.com/api/posting/{job_id}\"\n",
        "\n",
        "  headers = {\n",
        "      \"User-Agent\": \"Mozilla/5.0\",\n",
        "      \"Accept\": \"application/json\"\n",
        "  }\n",
        "\n",
        "  response = requests.get(url, headers=headers)\n",
        "\n",
        "  return response.json()\n",
        "\n",
        "\n",
        "def get_job_list(sentence):\n",
        "  url = \"https://nofluffjobs.com/api/search/posting\"\n",
        "  params = {\n",
        "      \"pageFrom\": 1,\n",
        "      \"pageTo\": 1,\n",
        "      \"pageSize\": 20,\n",
        "      \"salaryCurrency\": \"PLN\",\n",
        "      \"salaryPeriod\": \"month\",\n",
        "      \"region\": \"pl\",\n",
        "      \"language\": \"pl-PL\",\n",
        "      \"withSalaryMatch\": \"true\"\n",
        "  }\n",
        "\n",
        "  headers = {\n",
        "      \"Content-Type\": \"application/infiniteSearch+json\",\n",
        "      \"User-Agent\": \"Mozilla/5.0\"\n",
        "  }\n",
        "\n",
        "  payload = {\n",
        "      \"rawSearch\": f\"requirement={sentence}\"\n",
        "  }\n",
        "\n",
        "  response = requests.post(url, headers=headers, params=params, json=payload)\n",
        "\n",
        "  return response.json()\n"
      ]
    },
    {
      "cell_type": "code",
      "source": [
        "offer_list = get_job_list(\"python\")\n",
        "type(offer_list)"
      ],
      "metadata": {
        "colab": {
          "base_uri": "https://localhost:8080/"
        },
        "id": "P203PpAhpo2M",
        "outputId": "f613b604-cefe-4079-a711-4fd46a53e6c1"
      },
      "execution_count": 2,
      "outputs": [
        {
          "output_type": "execute_result",
          "data": {
            "text/plain": [
              "dict"
            ]
          },
          "metadata": {},
          "execution_count": 2
        }
      ]
    },
    {
      "cell_type": "code",
      "source": [
        "offer_list['postings'][215]['id']"
      ],
      "metadata": {
        "id": "dd9_KCa3qXLU",
        "colab": {
          "base_uri": "https://localhost:8080/",
          "height": 35
        },
        "outputId": "712498ef-7bfd-4b73-9f67-e6b98f35a0bb"
      },
      "execution_count": 3,
      "outputs": [
        {
          "output_type": "execute_result",
          "data": {
            "text/plain": [
              "'full-stack-engineer-python-pandas-azure-microservices-square-one-resources-west-pomeranian'"
            ],
            "application/vnd.google.colaboratory.intrinsic+json": {
              "type": "string"
            }
          },
          "metadata": {},
          "execution_count": 3
        }
      ]
    },
    {
      "cell_type": "code",
      "source": [
        "jobs_titles = []\n",
        "for offer in offer_list['postings']:\n",
        "  jobs_titles.append(offer['id'])"
      ],
      "metadata": {
        "id": "DIPmJbi1GuuM"
      },
      "execution_count": 4,
      "outputs": []
    },
    {
      "cell_type": "code",
      "source": [
        "job_details = get_job_details(jobs_titles[0])"
      ],
      "metadata": {
        "id": "5P0xo43gJCMU"
      },
      "execution_count": 5,
      "outputs": []
    },
    {
      "cell_type": "code",
      "source": [
        "keywords = [\n",
        "    \"python\", \"java\", \"javascript\", \"react\", \"django\", \"sql\", \"node\", \"devops\", \"qa\",\n",
        "    \"junior\", \"mid\", \"entry\", \"trainee\", \"intern\"\n",
        "]\n",
        "\n",
        "\n",
        "title_list = []\n",
        "for key in keywords:\n",
        "  offer_list = get_job_list(key)['postings']\n",
        "  for offer in offer_list:\n",
        "    title_list.append(offer['id'])\n",
        "len(title_list)"
      ],
      "metadata": {
        "colab": {
          "base_uri": "https://localhost:8080/"
        },
        "id": "jZYQg4w0Jmlm",
        "outputId": "c49d2af8-078c-407d-c147-077d1e173458"
      },
      "execution_count": 6,
      "outputs": [
        {
          "output_type": "execute_result",
          "data": {
            "text/plain": [
              "2039"
            ]
          },
          "metadata": {},
          "execution_count": 6
        }
      ]
    },
    {
      "cell_type": "code",
      "source": [
        "title_list[1]"
      ],
      "metadata": {
        "colab": {
          "base_uri": "https://localhost:8080/",
          "height": 35
        },
        "id": "o2Vh-j08Sw9H",
        "outputId": "61924a50-c050-4b1d-b8a2-f33e7735a439"
      },
      "execution_count": 7,
      "outputs": [
        {
          "output_type": "execute_result",
          "data": {
            "text/plain": [
              "'senior-python-developer-astek-polska-lower-silesian'"
            ],
            "application/vnd.google.colaboratory.intrinsic+json": {
              "type": "string"
            }
          },
          "metadata": {},
          "execution_count": 7
        }
      ]
    },
    {
      "cell_type": "code",
      "source": [
        "job_details = []\n",
        "\n",
        "for title in title_list:\n",
        "  job_details.append(get_job_details(title))\n"
      ],
      "metadata": {
        "id": "nUHC0SKyUteH"
      },
      "execution_count": 8,
      "outputs": []
    },
    {
      "cell_type": "code",
      "source": [
        "len(job_details)"
      ],
      "metadata": {
        "colab": {
          "base_uri": "https://localhost:8080/"
        },
        "id": "ISrU0-11VYVE",
        "outputId": "91471087-2be2-45ba-d6f9-a2eeea2b6929"
      },
      "execution_count": 9,
      "outputs": [
        {
          "output_type": "execute_result",
          "data": {
            "text/plain": [
              "2039"
            ]
          },
          "metadata": {},
          "execution_count": 9
        }
      ]
    },
    {
      "cell_type": "code",
      "source": [
        "from collections import Counter\n",
        "\n",
        "labels = [offer['basics']['seniority'][0].lower() for offer in job_details if offer.get('basics', {}).get('seniority')]\n",
        "print(Counter(labels))"
      ],
      "metadata": {
        "colab": {
          "base_uri": "https://localhost:8080/"
        },
        "id": "gtPKK2wGXCJf",
        "outputId": "5f5e1eb4-af1c-46d5-e106-d0f2c77ba722"
      },
      "execution_count": 10,
      "outputs": [
        {
          "output_type": "stream",
          "name": "stdout",
          "text": [
            "Counter({'senior': 932, 'mid': 769, 'junior': 160, 'trainee': 140, 'expert': 38})\n"
          ]
        }
      ]
    },
    {
      "cell_type": "code",
      "source": [
        "jobs = {'senior':[], 'mid':[], 'junior':[]}"
      ],
      "metadata": {
        "id": "jo5Wm58uX8t8"
      },
      "execution_count": 11,
      "outputs": []
    },
    {
      "cell_type": "code",
      "source": [
        "for offer in job_details:\n",
        "  if offer.get('basics', {}).get('seniority'):\n",
        "    if 'senior' in offer['basics']['seniority'][0].lower():\n",
        "      jobs['senior'].append(offer)\n",
        "    if 'mid' in offer['basics']['seniority'][0].lower():\n",
        "      jobs['mid'].append(offer)\n",
        "    if 'junior' in offer['basics']['seniority'][0].lower():\n",
        "      jobs['junior'].append(offer)\n",
        "    if 'trainee' in offer['basics']['seniority'][0].lower():\n",
        "      jobs['junior'].append(offer)\n",
        "    if 'expert' in offer['basics']['seniority'][0].lower():\n",
        "      jobs['senior'].append(offer)"
      ],
      "metadata": {
        "id": "TJgvq2wqbYeK"
      },
      "execution_count": 12,
      "outputs": []
    },
    {
      "cell_type": "code",
      "source": [
        "len(jobs['senior'])"
      ],
      "metadata": {
        "colab": {
          "base_uri": "https://localhost:8080/"
        },
        "id": "l1-TYimCb3sw",
        "outputId": "7db5cae9-d582-4733-867c-3cfb74fd5be8"
      },
      "execution_count": 13,
      "outputs": [
        {
          "output_type": "execute_result",
          "data": {
            "text/plain": [
              "970"
            ]
          },
          "metadata": {},
          "execution_count": 13
        }
      ]
    },
    {
      "cell_type": "code",
      "source": [
        "type(jobs['senior'][0])"
      ],
      "metadata": {
        "colab": {
          "base_uri": "https://localhost:8080/"
        },
        "id": "My7YXsywnDKU",
        "outputId": "f7ab696a-1535-4c28-cc0b-ba0e393484ee"
      },
      "execution_count": 14,
      "outputs": [
        {
          "output_type": "execute_result",
          "data": {
            "text/plain": [
              "dict"
            ]
          },
          "metadata": {},
          "execution_count": 14
        }
      ]
    },
    {
      "cell_type": "code",
      "source": [
        "jobs['senior'][0]['title']"
      ],
      "metadata": {
        "colab": {
          "base_uri": "https://localhost:8080/",
          "height": 35
        },
        "id": "h2b96T0MfAc_",
        "outputId": "8bc256cc-2f0f-43f4-efe5-77d799d41a5e"
      },
      "execution_count": 15,
      "outputs": [
        {
          "output_type": "execute_result",
          "data": {
            "text/plain": [
              "'Senior Python Developer'"
            ],
            "application/vnd.google.colaboratory.intrinsic+json": {
              "type": "string"
            }
          },
          "metadata": {},
          "execution_count": 15
        }
      ]
    },
    {
      "cell_type": "code",
      "source": [
        "\n",
        "from bs4 import BeautifulSoup\n",
        "\n",
        "\n",
        "text = jobs['senior'][0]['requirements']['description']\n",
        "\n",
        "soup = BeautifulSoup(text, 'html.parser')\n",
        "clean_text = soup.get_text()\n",
        "print(clean_text)"
      ],
      "metadata": {
        "colab": {
          "base_uri": "https://localhost:8080/"
        },
        "id": "NwcFHmpGcXnP",
        "outputId": "8aab4ed6-6c8e-49bf-ad3e-244319b1ed33"
      },
      "execution_count": 16,
      "outputs": [
        {
          "output_type": "stream",
          "name": "stdout",
          "text": [
            "\n",
            "Minimum 8 lat doświadczenia w programowaniu backendowym w Pythonie, biegłość w frameworkach Django, Flask lub FastAPI oraz praktyczne stosowanie zasad SOLID i DRY\n",
            "Doświadczenie w projektowaniu i utrzymaniu złożonych systemów opartych na mikroserwisach, REST API oraz pracy w środowiskach chmurowych (AWS, GCP, Azure)\n",
            "Znajomość platform do orkiestracji workflowów (np. Temporal) oraz umiejętność integracji z katalogami usług\n",
            "Praktyczna znajomość CI/CD, narzędzi Infrastructure as Code (Terraform, Ansible) oraz programowania asynchronicznego w Pythonie\n",
            "Dobra znajomość baz danych relacyjnych (PostgreSQL, MySQL) i NoSQL (MongoDB, DynamoDB) wraz z umiejętnością projektowania schematów\n",
            "Silne zdolności analityczne, umiejętność rozwiązywania problemów technicznych, skuteczna komunikacja oraz doświadczenie w pracy zespołowej\n",
            "\n",
            "Mile widziane:\n",
            "\n",
            "Znajomość Docker, Kubernetes, języków Go, Rust lub Java\n",
            "Doświadczenie z architekturą zdarzeniową, systemami kolejkowymi (Kafka, RabbitMQ) oraz serverless (AWS Lambda)\n",
            "Znajomość narzędzi monitorujących (Prometheus, ELK, Grafana) i certyfikaty chmurowe\n",
            "\n"
          ]
        }
      ]
    },
    {
      "cell_type": "code",
      "source": [
        "jobs['senior'][0]['requirements']['musts'][0]"
      ],
      "metadata": {
        "colab": {
          "base_uri": "https://localhost:8080/"
        },
        "id": "knbPqbdndm4V",
        "outputId": "f3ecab4b-3227-4062-f368-a124cbe9e251"
      },
      "execution_count": 17,
      "outputs": [
        {
          "output_type": "execute_result",
          "data": {
            "text/plain": [
              "{'value': 'Python', 'type': 'main'}"
            ]
          },
          "metadata": {},
          "execution_count": 17
        }
      ]
    },
    {
      "cell_type": "code",
      "source": [
        "for key in jobs['senior'][0]['requirements']['musts'][0]:\n",
        "  print(jobs['senior'][0]['requirements']['musts'][0][key])"
      ],
      "metadata": {
        "colab": {
          "base_uri": "https://localhost:8080/"
        },
        "id": "Lx31shPQek2d",
        "outputId": "08f2eaa9-d07a-44b3-f9ac-848f9ef6623f"
      },
      "execution_count": 18,
      "outputs": [
        {
          "output_type": "stream",
          "name": "stdout",
          "text": [
            "Python\n",
            "main\n"
          ]
        }
      ]
    },
    {
      "cell_type": "code",
      "source": [
        "new_offers = {'senior':['senior'], 'mid':['mid' ], 'junior':[ 'junior']}"
      ],
      "metadata": {
        "id": "3Yq-Nz56fTvg"
      },
      "execution_count": 19,
      "outputs": []
    },
    {
      "cell_type": "code",
      "source": [
        "for offer in jobs['senior']:\n",
        "  if offer['requirements']['description']:\n",
        "    soup = BeautifulSoup(offer['requirements']['description'], 'html.parser')\n",
        "    clean_text = soup.get_text()\n"
      ],
      "metadata": {
        "id": "SxDtbpW3iH8z"
      },
      "execution_count": 20,
      "outputs": []
    },
    {
      "cell_type": "code",
      "source": [],
      "metadata": {
        "id": "HDN6EdN7jANZ"
      },
      "execution_count": 20,
      "outputs": []
    },
    {
      "cell_type": "code",
      "source": [
        "from bs4 import BeautifulSoup\n",
        "import pandas as pd\n",
        "\n",
        "def clean_html(html_str):\n",
        "    return BeautifulSoup(html_str or \"\", \"html.parser\").get_text(separator=\" \")\n",
        "\n",
        "dataset = []\n",
        "\n",
        "for label, offers in jobs.items():\n",
        "    for offer in offers:\n",
        "        title = offer.get(\"title\", \"\")\n",
        "\n",
        "        desc_html = offer.get(\"details\", {}).get(\"description\", \"\")\n",
        "        req_html = offer.get(\"requirements\", {}).get(\"description\", \"\")\n",
        "\n",
        "        musts = offer.get(\"requirements\", {}).get(\"musts\", [])\n",
        "        nices = offer.get(\"requirements\", {}).get(\"nices\", [])\n",
        "\n",
        "        must_skills = \" \".join([m.get(\"value\", \"\") for m in musts])\n",
        "        nice_skills = \" \".join([n.get(\"value\", \"\") for n in nices])\n",
        "\n",
        "        desc_text = clean_html(desc_html)\n",
        "        req_text = clean_html(req_html)\n",
        "\n",
        "        full_text = f\"{title}\\n{desc_text}\\n{req_text}\\nMust have: {must_skills}\\nNice to have: {nice_skills}\"\n",
        "\n",
        "        dataset.append({\n",
        "            \"text\": full_text,\n",
        "            \"label\": label\n",
        "        })\n",
        "\n",
        "# Konwersja do DataFrame i zapis\n",
        "df = pd.DataFrame(dataset)\n",
        "df.to_csv(\"job_offers_dataset.csv\", index=False)\n",
        "print(\"✅ Zapisano plik job_offers_dataset.csv\")\n"
      ],
      "metadata": {
        "colab": {
          "base_uri": "https://localhost:8080/"
        },
        "id": "OnOy7u03nngZ",
        "outputId": "ebac4d13-ddfc-4ff4-8213-82bd4e958687"
      },
      "execution_count": 22,
      "outputs": [
        {
          "output_type": "stream",
          "name": "stdout",
          "text": [
            "✅ Zapisano plik job_offers_dataset.csv\n"
          ]
        }
      ]
    },
    {
      "cell_type": "code",
      "source": [
        "df['label'].value_counts()"
      ],
      "metadata": {
        "colab": {
          "base_uri": "https://localhost:8080/",
          "height": 210
        },
        "id": "OuNCcNkLpY-n",
        "outputId": "70f922cc-b839-4f2e-a5fd-d12e5bb35fba"
      },
      "execution_count": 23,
      "outputs": [
        {
          "output_type": "execute_result",
          "data": {
            "text/plain": [
              "label\n",
              "senior    970\n",
              "mid       769\n",
              "junior    300\n",
              "Name: count, dtype: int64"
            ],
            "text/html": [
              "<div>\n",
              "<style scoped>\n",
              "    .dataframe tbody tr th:only-of-type {\n",
              "        vertical-align: middle;\n",
              "    }\n",
              "\n",
              "    .dataframe tbody tr th {\n",
              "        vertical-align: top;\n",
              "    }\n",
              "\n",
              "    .dataframe thead th {\n",
              "        text-align: right;\n",
              "    }\n",
              "</style>\n",
              "<table border=\"1\" class=\"dataframe\">\n",
              "  <thead>\n",
              "    <tr style=\"text-align: right;\">\n",
              "      <th></th>\n",
              "      <th>count</th>\n",
              "    </tr>\n",
              "    <tr>\n",
              "      <th>label</th>\n",
              "      <th></th>\n",
              "    </tr>\n",
              "  </thead>\n",
              "  <tbody>\n",
              "    <tr>\n",
              "      <th>senior</th>\n",
              "      <td>970</td>\n",
              "    </tr>\n",
              "    <tr>\n",
              "      <th>mid</th>\n",
              "      <td>769</td>\n",
              "    </tr>\n",
              "    <tr>\n",
              "      <th>junior</th>\n",
              "      <td>300</td>\n",
              "    </tr>\n",
              "  </tbody>\n",
              "</table>\n",
              "</div><br><label><b>dtype:</b> int64</label>"
            ]
          },
          "metadata": {},
          "execution_count": 23
        }
      ]
    },
    {
      "cell_type": "code",
      "source": [
        "min_count = 300"
      ],
      "metadata": {
        "id": "9csGOkwYqCtD"
      },
      "execution_count": 26,
      "outputs": []
    },
    {
      "cell_type": "code",
      "source": [
        "senior = df[df['label'] == 'senior'].sample(n=min_count, random_state=42)\n",
        "mid = df[df['label'] == 'mid'].sample(n=min_count, random_state=42)\n",
        "junior = df[df['label'] == 'junior'].sample(n=min_count, random_state=42)"
      ],
      "metadata": {
        "id": "fnTLsRnirCJk"
      },
      "execution_count": 27,
      "outputs": []
    },
    {
      "cell_type": "code",
      "source": [
        "new_df = pd.concat([senior, mid, junior], ignore_index=True)\n"
      ],
      "metadata": {
        "id": "HieVJppqrPLL"
      },
      "execution_count": 28,
      "outputs": []
    },
    {
      "cell_type": "code",
      "source": [
        "new_df['label'].value_counts()"
      ],
      "metadata": {
        "colab": {
          "base_uri": "https://localhost:8080/",
          "height": 210
        },
        "id": "B9fTsrnUrxbk",
        "outputId": "0d3552b8-058e-42ef-87de-50c33a7994f3"
      },
      "execution_count": 29,
      "outputs": [
        {
          "output_type": "execute_result",
          "data": {
            "text/plain": [
              "label\n",
              "senior    300\n",
              "mid       300\n",
              "junior    300\n",
              "Name: count, dtype: int64"
            ],
            "text/html": [
              "<div>\n",
              "<style scoped>\n",
              "    .dataframe tbody tr th:only-of-type {\n",
              "        vertical-align: middle;\n",
              "    }\n",
              "\n",
              "    .dataframe tbody tr th {\n",
              "        vertical-align: top;\n",
              "    }\n",
              "\n",
              "    .dataframe thead th {\n",
              "        text-align: right;\n",
              "    }\n",
              "</style>\n",
              "<table border=\"1\" class=\"dataframe\">\n",
              "  <thead>\n",
              "    <tr style=\"text-align: right;\">\n",
              "      <th></th>\n",
              "      <th>count</th>\n",
              "    </tr>\n",
              "    <tr>\n",
              "      <th>label</th>\n",
              "      <th></th>\n",
              "    </tr>\n",
              "  </thead>\n",
              "  <tbody>\n",
              "    <tr>\n",
              "      <th>senior</th>\n",
              "      <td>300</td>\n",
              "    </tr>\n",
              "    <tr>\n",
              "      <th>mid</th>\n",
              "      <td>300</td>\n",
              "    </tr>\n",
              "    <tr>\n",
              "      <th>junior</th>\n",
              "      <td>300</td>\n",
              "    </tr>\n",
              "  </tbody>\n",
              "</table>\n",
              "</div><br><label><b>dtype:</b> int64</label>"
            ]
          },
          "metadata": {},
          "execution_count": 29
        }
      ]
    },
    {
      "cell_type": "code",
      "source": [
        "X = new_df['text'].values"
      ],
      "metadata": {
        "id": "m9TaHtl3sDnb"
      },
      "execution_count": 31,
      "outputs": []
    },
    {
      "cell_type": "code",
      "source": [
        "from sklearn.preprocessing import LabelEncoder\n",
        "le = LabelEncoder()\n",
        "\n",
        "y = le.fit_transform(new_df['label'])\n"
      ],
      "metadata": {
        "id": "RiXiq2CYZczM"
      },
      "execution_count": 34,
      "outputs": []
    },
    {
      "cell_type": "code",
      "source": [
        "le.classes_"
      ],
      "metadata": {
        "id": "UwuSTO-haHHr",
        "outputId": "d5224153-3189-4565-96a6-340de447616b",
        "colab": {
          "base_uri": "https://localhost:8080/"
        }
      },
      "execution_count": 36,
      "outputs": [
        {
          "output_type": "execute_result",
          "data": {
            "text/plain": [
              "array(['junior', 'mid', 'senior'], dtype=object)"
            ]
          },
          "metadata": {},
          "execution_count": 36
        }
      ]
    },
    {
      "cell_type": "code",
      "source": [
        "X[0]"
      ],
      "metadata": {
        "id": "KgNzkFj4aIsb",
        "outputId": "96fddcc0-4536-4ab0-d333-f4139edc809e",
        "colab": {
          "base_uri": "https://localhost:8080/",
          "height": 122
        }
      },
      "execution_count": 37,
      "outputs": [
        {
          "output_type": "execute_result",
          "data": {
            "text/plain": [
              "\"AI/ML Principal Software Engineer\\nJoin our client's team in the medical industry as an AI/ML Principal Software Engineer, and help build cutting-edge software solutions powered by machine learning for real-world applications. \\n In this role, you will play a key part in designing and building scalable, high-performance systems that bring machine learning models into production environments. This is an exciting opportunity to lead critical initiatives at the intersection of software engineering and AI, while working remotely within a collaborative and forward-thinking team.\\n\\n Minimum of 7 years of experience building and deploying complex, production-grade software systems \\n Proficient in backend technologies (e.g., Python, Java, Node.js) and frameworks (e.g., Django, Flask, Spring Boot) \\n Skilled in frontend frameworks such as React or Angular \\n Strong background in containerization (Docker) and orchestration (Kubernetes) \\n Proven expertise with AWS and scalable cloud-based architectures \\n Fluency in English, both spoken and written \\n Residing in Poland required \\n\\nMust have: AWS Docker Kubernetes CI/CD Python/Java/Golang/Node.js Django/ Spring boot React/Angular\\nNice to have: TensorFlow / PyTorch  Prometheus / Grafana / ELK stack Veeva\""
            ],
            "application/vnd.google.colaboratory.intrinsic+json": {
              "type": "string"
            }
          },
          "metadata": {},
          "execution_count": 37
        }
      ]
    },
    {
      "cell_type": "code",
      "source": [],
      "metadata": {
        "id": "-LPR0IDaaUND"
      },
      "execution_count": null,
      "outputs": []
    }
  ]
}